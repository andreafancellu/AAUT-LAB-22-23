{
 "cells": [
  {
   "cell_type": "code",
   "execution_count": 1,
   "metadata": {},
   "outputs": [],
   "source": [
    "from sklearn.datasets import load_breast_cancer\n",
    "import numpy as np\n",
    "from sklearn.linear_model import LogisticRegression\n",
    "from sklearn.model_selection import train_test_split\n",
    "import matplotlib.pyplot as plt"
   ]
  },
  {
   "cell_type": "markdown",
   "metadata": {},
   "source": [
    "# Loading datasets"
   ]
  },
  {
   "cell_type": "code",
   "execution_count": 2,
   "metadata": {},
   "outputs": [
    {
     "data": {
      "text/plain": [
       "17070"
      ]
     },
     "execution_count": 2,
     "metadata": {},
     "output_type": "execute_result"
    }
   ],
   "source": [
    "X,y = load_breast_cancer(return_X_y=True)\n",
    "X.size"
   ]
  },
  {
   "cell_type": "code",
   "execution_count": 3,
   "metadata": {},
   "outputs": [
    {
     "data": {
      "text/plain": [
       "array([0, 1, 1, 1, 1, 1, 1, 1, 1, 1, 1, 1, 1, 1, 1, 0, 1, 0, 0, 0, 0, 0,\n",
       "       1, 1, 0, 1, 1, 0, 1, 0, 1, 0, 1, 0, 1, 0, 1, 0, 1, 0, 0, 1, 0, 1,\n",
       "       1, 0, 1, 1, 1, 0, 0, 0, 0, 1, 1, 1, 1, 1, 1, 0, 0, 0, 1, 1, 0, 1,\n",
       "       0, 0, 0, 1, 1, 0, 1, 0, 0, 1, 1, 1, 1, 1, 0, 0, 0, 1, 0, 1, 1, 1,\n",
       "       0, 0, 1, 0, 1, 0, 1, 1, 0, 1, 1, 1, 1, 1, 1, 1, 0, 1, 0, 1, 0, 0,\n",
       "       1, 0, 0, 1, 1, 1, 1, 1, 1, 1, 1, 1, 0, 1, 0, 1, 1, 1, 1, 1, 0, 1,\n",
       "       1, 1, 1, 1, 1, 0, 0, 1, 1, 1, 0, 1, 1, 0, 1, 0, 1, 1, 1, 1, 1, 1,\n",
       "       1, 0, 1, 0, 1, 0, 0, 1, 1, 0, 1, 0, 0, 0, 1, 1, 1, 1, 1, 1, 0, 1,\n",
       "       1, 1, 1, 0, 0, 1, 1, 0, 1, 1, 1, 1])"
      ]
     },
     "execution_count": 3,
     "metadata": {},
     "output_type": "execute_result"
    }
   ],
   "source": [
    "# Split train/test\n",
    "X_train, X_test, y_train, y_test = train_test_split(X, y, test_size=0.33, shuffle=True, random_state=0)\n",
    "y_test"
   ]
  },
  {
   "cell_type": "markdown",
   "metadata": {},
   "source": []
  },
  {
   "cell_type": "markdown",
   "metadata": {},
   "source": [
    "# Fitting the data"
   ]
  },
  {
   "cell_type": "code",
   "execution_count": 4,
   "metadata": {},
   "outputs": [],
   "source": [
    "lr = LogisticRegression()"
   ]
  },
  {
   "cell_type": "code",
   "execution_count": 5,
   "metadata": {},
   "outputs": [
    {
     "name": "stderr",
     "output_type": "stream",
     "text": [
      "c:\\Users\\andre\\Desktop\\Università\\Magistrale\\AAUT\\AAUT LAB\\env AAUT\\lib\\site-packages\\sklearn\\linear_model\\_logistic.py:444: ConvergenceWarning: lbfgs failed to converge (status=1):\n",
      "STOP: TOTAL NO. of ITERATIONS REACHED LIMIT.\n",
      "\n",
      "Increase the number of iterations (max_iter) or scale the data as shown in:\n",
      "    https://scikit-learn.org/stable/modules/preprocessing.html\n",
      "Please also refer to the documentation for alternative solver options:\n",
      "    https://scikit-learn.org/stable/modules/linear_model.html#logistic-regression\n",
      "  n_iter_i = _check_optimize_result(\n"
     ]
    },
    {
     "data": {
      "text/html": [
       "<style>#sk-container-id-1 {color: black;background-color: white;}#sk-container-id-1 pre{padding: 0;}#sk-container-id-1 div.sk-toggleable {background-color: white;}#sk-container-id-1 label.sk-toggleable__label {cursor: pointer;display: block;width: 100%;margin-bottom: 0;padding: 0.3em;box-sizing: border-box;text-align: center;}#sk-container-id-1 label.sk-toggleable__label-arrow:before {content: \"▸\";float: left;margin-right: 0.25em;color: #696969;}#sk-container-id-1 label.sk-toggleable__label-arrow:hover:before {color: black;}#sk-container-id-1 div.sk-estimator:hover label.sk-toggleable__label-arrow:before {color: black;}#sk-container-id-1 div.sk-toggleable__content {max-height: 0;max-width: 0;overflow: hidden;text-align: left;background-color: #f0f8ff;}#sk-container-id-1 div.sk-toggleable__content pre {margin: 0.2em;color: black;border-radius: 0.25em;background-color: #f0f8ff;}#sk-container-id-1 input.sk-toggleable__control:checked~div.sk-toggleable__content {max-height: 200px;max-width: 100%;overflow: auto;}#sk-container-id-1 input.sk-toggleable__control:checked~label.sk-toggleable__label-arrow:before {content: \"▾\";}#sk-container-id-1 div.sk-estimator input.sk-toggleable__control:checked~label.sk-toggleable__label {background-color: #d4ebff;}#sk-container-id-1 div.sk-label input.sk-toggleable__control:checked~label.sk-toggleable__label {background-color: #d4ebff;}#sk-container-id-1 input.sk-hidden--visually {border: 0;clip: rect(1px 1px 1px 1px);clip: rect(1px, 1px, 1px, 1px);height: 1px;margin: -1px;overflow: hidden;padding: 0;position: absolute;width: 1px;}#sk-container-id-1 div.sk-estimator {font-family: monospace;background-color: #f0f8ff;border: 1px dotted black;border-radius: 0.25em;box-sizing: border-box;margin-bottom: 0.5em;}#sk-container-id-1 div.sk-estimator:hover {background-color: #d4ebff;}#sk-container-id-1 div.sk-parallel-item::after {content: \"\";width: 100%;border-bottom: 1px solid gray;flex-grow: 1;}#sk-container-id-1 div.sk-label:hover label.sk-toggleable__label {background-color: #d4ebff;}#sk-container-id-1 div.sk-serial::before {content: \"\";position: absolute;border-left: 1px solid gray;box-sizing: border-box;top: 0;bottom: 0;left: 50%;z-index: 0;}#sk-container-id-1 div.sk-serial {display: flex;flex-direction: column;align-items: center;background-color: white;padding-right: 0.2em;padding-left: 0.2em;position: relative;}#sk-container-id-1 div.sk-item {position: relative;z-index: 1;}#sk-container-id-1 div.sk-parallel {display: flex;align-items: stretch;justify-content: center;background-color: white;position: relative;}#sk-container-id-1 div.sk-item::before, #sk-container-id-1 div.sk-parallel-item::before {content: \"\";position: absolute;border-left: 1px solid gray;box-sizing: border-box;top: 0;bottom: 0;left: 50%;z-index: -1;}#sk-container-id-1 div.sk-parallel-item {display: flex;flex-direction: column;z-index: 1;position: relative;background-color: white;}#sk-container-id-1 div.sk-parallel-item:first-child::after {align-self: flex-end;width: 50%;}#sk-container-id-1 div.sk-parallel-item:last-child::after {align-self: flex-start;width: 50%;}#sk-container-id-1 div.sk-parallel-item:only-child::after {width: 0;}#sk-container-id-1 div.sk-dashed-wrapped {border: 1px dashed gray;margin: 0 0.4em 0.5em 0.4em;box-sizing: border-box;padding-bottom: 0.4em;background-color: white;}#sk-container-id-1 div.sk-label label {font-family: monospace;font-weight: bold;display: inline-block;line-height: 1.2em;}#sk-container-id-1 div.sk-label-container {text-align: center;}#sk-container-id-1 div.sk-container {/* jupyter's `normalize.less` sets `[hidden] { display: none; }` but bootstrap.min.css set `[hidden] { display: none !important; }` so we also need the `!important` here to be able to override the default hidden behavior on the sphinx rendered scikit-learn.org. See: https://github.com/scikit-learn/scikit-learn/issues/21755 */display: inline-block !important;position: relative;}#sk-container-id-1 div.sk-text-repr-fallback {display: none;}</style><div id=\"sk-container-id-1\" class=\"sk-top-container\"><div class=\"sk-text-repr-fallback\"><pre>LogisticRegression()</pre><b>In a Jupyter environment, please rerun this cell to show the HTML representation or trust the notebook. <br />On GitHub, the HTML representation is unable to render, please try loading this page with nbviewer.org.</b></div><div class=\"sk-container\" hidden><div class=\"sk-item\"><div class=\"sk-estimator sk-toggleable\"><input class=\"sk-toggleable__control sk-hidden--visually\" id=\"sk-estimator-id-1\" type=\"checkbox\" checked><label for=\"sk-estimator-id-1\" class=\"sk-toggleable__label sk-toggleable__label-arrow\">LogisticRegression</label><div class=\"sk-toggleable__content\"><pre>LogisticRegression()</pre></div></div></div></div></div>"
      ],
      "text/plain": [
       "LogisticRegression()"
      ]
     },
     "execution_count": 5,
     "metadata": {},
     "output_type": "execute_result"
    }
   ],
   "source": [
    "lr.fit(X_train, y_train)"
   ]
  },
  {
   "cell_type": "markdown",
   "metadata": {},
   "source": [
    "# Making predictions"
   ]
  },
  {
   "cell_type": "code",
   "execution_count": 6,
   "metadata": {},
   "outputs": [
    {
     "name": "stdout",
     "output_type": "stream",
     "text": [
      "[0 1 1 1 1 1 1 1 1 1 0 1 1 0 1 0 1 0 0 0 0 0 1 1 0 1 1 0 1 0 1 0 1 0 1 0 1\n",
      " 0 1 0 0 1 0 1 0 0 1 1 1 0 0 1 0 1 1 1 1 1 1 0 0 0 1 1 0 1 0 0 0 1 0 0 1 1\n",
      " 0 1 1 1 1 1 0 0 0 1 0 1 1 1 0 0 1 0 0 0 1 1 0 1 1 1 1 1 1 1 0 1 0 1 0 0 1\n",
      " 0 0 1 1 1 1 1 1 1 1 1 0 1 0 1 0 1 1 1 0 1 1 1 1 1 1 0 0 1 1 1 0 1 1 0 1 0\n",
      " 1 1 1 1 1 1 1 0 1 0 1 0 0 1 1 0 1 0 0 0 1 1 1 1 1 1 0 1 1 1 1 0 0 1 1 0 1\n",
      " 1 1 1]\n"
     ]
    },
    {
     "data": {
      "text/plain": [
       "array([1.08597602e-02, 9.66291937e-01, 9.95921648e-01, 7.57224397e-01,\n",
       "       9.99750164e-01, 9.96490819e-01, 9.92792489e-01, 9.96372099e-01,\n",
       "       9.81380174e-01, 9.99252428e-01, 4.51775795e-01, 8.87363665e-01,\n",
       "       9.95634813e-01, 1.13049131e-01, 7.72413466e-01, 8.68115936e-03,\n",
       "       9.88134962e-01, 1.31089072e-08, 1.32441054e-03, 3.96492938e-11,\n",
       "       4.77308943e-05, 1.19920583e-01, 9.97107903e-01, 9.85043990e-01,\n",
       "       4.84974616e-03, 9.48801628e-01, 9.94743674e-01, 2.43714389e-01,\n",
       "       9.95026971e-01, 1.43702195e-10, 9.98888204e-01, 9.04146485e-08,\n",
       "       7.13943154e-01, 7.25033499e-04, 9.99593114e-01, 3.25991959e-03,\n",
       "       8.64913122e-01, 2.92153527e-06, 9.93473182e-01, 8.02071175e-04,\n",
       "       1.26430861e-01, 9.95371786e-01, 2.58081359e-03, 9.98246014e-01,\n",
       "       8.80288245e-02, 5.94975567e-12, 9.99512297e-01, 9.44158941e-01,\n",
       "       9.95360475e-01, 1.15759535e-03, 8.38973470e-06, 5.08272547e-01,\n",
       "       1.16820346e-06, 9.93890932e-01, 9.91869696e-01, 9.98237184e-01,\n",
       "       9.90759135e-01, 9.68177709e-01, 9.50025349e-01, 2.58310990e-16,\n",
       "       1.07098829e-02, 1.02304378e-04, 9.96769172e-01, 9.88070102e-01,\n",
       "       3.05409519e-07, 9.18077449e-01, 1.06814565e-17, 2.17750929e-04,\n",
       "       5.76228355e-08, 9.77849657e-01, 4.22589602e-01, 2.43438964e-05,\n",
       "       9.93583256e-01, 8.25576108e-01, 5.86611148e-06, 9.76976876e-01,\n",
       "       9.94428709e-01, 9.88281663e-01, 9.93439532e-01, 9.85731943e-01,\n",
       "       5.87460573e-03, 2.62874281e-09, 6.05851363e-05, 9.98983493e-01,\n",
       "       6.52973090e-02, 9.98206997e-01, 9.91454765e-01, 9.97543190e-01,\n",
       "       5.89174555e-05, 1.35438854e-10, 9.99304445e-01, 3.17288234e-01,\n",
       "       3.52800671e-01, 1.03795170e-03, 9.65054499e-01, 9.83905656e-01,\n",
       "       5.58646167e-15, 7.89935041e-01, 9.46213402e-01, 9.67727249e-01,\n",
       "       9.98746932e-01, 9.89533244e-01, 9.88985975e-01, 9.39581395e-01,\n",
       "       1.84131745e-07, 9.97330751e-01, 1.22549581e-04, 8.00702668e-01,\n",
       "       9.53371860e-02, 3.12526190e-01, 9.69677728e-01, 1.07551492e-03,\n",
       "       2.43248217e-05, 8.62381771e-01, 9.84515170e-01, 8.13543949e-01,\n",
       "       9.11366985e-01, 9.99135758e-01, 7.65157979e-01, 9.91551803e-01,\n",
       "       9.81611224e-01, 9.97269257e-01, 4.01135404e-02, 9.81472146e-01,\n",
       "       1.29686233e-07, 9.41006922e-01, 3.18498604e-01, 9.99173864e-01,\n",
       "       9.98526197e-01, 9.98673339e-01, 4.58475126e-06, 9.73233376e-01,\n",
       "       9.95860702e-01, 9.12665742e-01, 8.47063879e-01, 9.99425854e-01,\n",
       "       7.66067587e-01, 6.24884368e-02, 1.13864071e-19, 9.99245935e-01,\n",
       "       9.94332814e-01, 9.98657662e-01, 1.42960457e-12, 9.86472553e-01,\n",
       "       9.97794335e-01, 2.10543588e-08, 8.86762609e-01, 1.66268069e-01,\n",
       "       9.77287386e-01, 9.66472056e-01, 9.94771959e-01, 9.26360404e-01,\n",
       "       9.71503489e-01, 8.88502775e-01, 9.98437579e-01, 4.45520919e-02,\n",
       "       9.13609423e-01, 3.51157812e-02, 9.95978443e-01, 6.80125787e-07,\n",
       "       6.68717007e-07, 9.91476557e-01, 5.45307455e-01, 1.13609481e-04,\n",
       "       9.95999866e-01, 1.19220821e-02, 2.15405629e-02, 1.87664038e-03,\n",
       "       9.15593164e-01, 9.78374081e-01, 9.99148480e-01, 9.91803170e-01,\n",
       "       9.98953330e-01, 9.86153607e-01, 2.09722319e-03, 9.95266439e-01,\n",
       "       9.95375933e-01, 9.90528449e-01, 9.99235562e-01, 1.94040248e-02,\n",
       "       4.42902149e-10, 9.09245556e-01, 8.21495670e-01, 8.25524146e-03,\n",
       "       9.99407971e-01, 9.99522304e-01, 7.39311161e-01, 9.97341137e-01])"
      ]
     },
     "execution_count": 6,
     "metadata": {},
     "output_type": "execute_result"
    }
   ],
   "source": [
    "predicted = lr.predict(X_test)\n",
    "print(predicted)\n",
    "scores = lr.predict_proba(X_test)[:,1] # versione scoring del calssificatore. score delle calssificazioni\n",
    "scores"
   ]
  },
  {
   "cell_type": "markdown",
   "metadata": {},
   "source": [
    "# Functions for evaluating fp,tp and accuracy"
   ]
  },
  {
   "cell_type": "code",
   "execution_count": 7,
   "metadata": {},
   "outputs": [],
   "source": [
    "def eval_fp_tp(actual, predicted, threshold):\n",
    "    # returns tuple (fp, tp)\n",
    "    tp = 0\n",
    "    fp = 0\n",
    "    for i in range(len(actual)):\n",
    "        if predicted[i] >= threshold and actual[i] == 1:\n",
    "            tp += 1\n",
    "        elif actual[i] == 0 and predicted[i] >= threshold:\n",
    "            fp += 1\n",
    "    return fp, tp"
   ]
  },
  {
   "cell_type": "code",
   "execution_count": 8,
   "metadata": {},
   "outputs": [
    {
     "data": {
      "text/plain": [
       "(2, 115)"
      ]
     },
     "execution_count": 8,
     "metadata": {},
     "output_type": "execute_result"
    }
   ],
   "source": [
    "eval_fp_tp(y_test, scores, 0.5)"
   ]
  },
  {
   "cell_type": "code",
   "execution_count": 9,
   "metadata": {},
   "outputs": [],
   "source": [
    "def eval_accuracy(actual, predicted, threshold):\n",
    "    correct = 0\n",
    "    for i in range(len(actual)):\n",
    "        if predicted[i] >= threshold and actual[i] == 1:\n",
    "            correct += 1\n",
    "        elif predicted[i] < threshold and actual[i] == 0:\n",
    "            correct += 1\n",
    "    return correct/len(actual)"
   ]
  },
  {
   "cell_type": "code",
   "execution_count": 10,
   "metadata": {},
   "outputs": [
    {
     "data": {
      "text/plain": [
       "0.9574468085106383"
      ]
     },
     "execution_count": 10,
     "metadata": {},
     "output_type": "execute_result"
    }
   ],
   "source": [
    "eval_accuracy(y_test, scores, 0.5)"
   ]
  },
  {
   "cell_type": "markdown",
   "metadata": {},
   "source": [
    "# fp,tp and accuracy evaluations for different thresholds\n",
    "\n",
    "Given the scores for the test cases, we might want to find the best possible threshold for classification, i.e., the real value $t$ such that `scores >` $t$ gives the best classifiation of the examples. \n",
    "\n",
    "Let us then start to consider 100 possible thresholds in the range $[0,1]$:"
   ]
  },
  {
   "cell_type": "code",
   "execution_count": 11,
   "metadata": {},
   "outputs": [
    {
     "data": {
      "text/plain": [
       "array([0.01, 0.02, 0.03, 0.04, 0.05, 0.06, 0.07, 0.08, 0.09, 0.1 , 0.11,\n",
       "       0.12, 0.13, 0.14, 0.15, 0.16, 0.17, 0.18, 0.19, 0.2 , 0.21, 0.22,\n",
       "       0.23, 0.24, 0.25, 0.26, 0.27, 0.28, 0.29, 0.3 , 0.31, 0.32, 0.33,\n",
       "       0.34, 0.35, 0.36, 0.37, 0.38, 0.39, 0.4 , 0.41, 0.42, 0.43, 0.44,\n",
       "       0.45, 0.46, 0.47, 0.48, 0.49, 0.5 , 0.51, 0.52, 0.53, 0.54, 0.55,\n",
       "       0.56, 0.57, 0.58, 0.59, 0.6 , 0.61, 0.62, 0.63, 0.64, 0.65, 0.66,\n",
       "       0.67, 0.68, 0.69, 0.7 , 0.71, 0.72, 0.73, 0.74, 0.75, 0.76, 0.77,\n",
       "       0.78, 0.79, 0.8 , 0.81, 0.82, 0.83, 0.84, 0.85, 0.86, 0.87, 0.88,\n",
       "       0.89, 0.9 , 0.91, 0.92, 0.93, 0.94, 0.95, 0.96, 0.97, 0.98, 0.99,\n",
       "       1.  ])"
      ]
     },
     "execution_count": 11,
     "metadata": {},
     "output_type": "execute_result"
    }
   ],
   "source": [
    "thresholds = np.linspace(0.01,1,100)\n",
    "thresholds"
   ]
  },
  {
   "cell_type": "markdown",
   "metadata": {},
   "source": [
    "and compute the tp, fp, and accuracy values of the labelings obtained by comparing the scores with those thresholds."
   ]
  },
  {
   "cell_type": "code",
   "execution_count": 12,
   "metadata": {},
   "outputs": [
    {
     "name": "stdout",
     "output_type": "stream",
     "text": [
      "Threshold: 0.01 - Accuracy: 0.90 - FP: 19 - TP: 121\n",
      "Threshold: 0.02 - Accuracy: 0.92 - FP: 15 - TP: 121\n",
      "Threshold: 0.03 - Accuracy: 0.93 - FP: 14 - TP: 121\n",
      "Threshold: 0.04 - Accuracy: 0.93 - FP: 13 - TP: 121\n",
      "Threshold: 0.05 - Accuracy: 0.94 - FP: 11 - TP: 121\n",
      "Threshold: 0.06 - Accuracy: 0.94 - FP: 11 - TP: 121\n",
      "Threshold: 0.07 - Accuracy: 0.95 - FP: 9 - TP: 121\n",
      "Threshold: 0.08 - Accuracy: 0.95 - FP: 9 - TP: 121\n",
      "Threshold: 0.09 - Accuracy: 0.95 - FP: 9 - TP: 120\n",
      "Threshold: 0.10 - Accuracy: 0.95 - FP: 8 - TP: 120\n",
      "Threshold: 0.11 - Accuracy: 0.95 - FP: 8 - TP: 120\n",
      "Threshold: 0.12 - Accuracy: 0.95 - FP: 7 - TP: 119\n",
      "Threshold: 0.13 - Accuracy: 0.96 - FP: 6 - TP: 119\n",
      "Threshold: 0.14 - Accuracy: 0.96 - FP: 6 - TP: 119\n",
      "Threshold: 0.15 - Accuracy: 0.96 - FP: 6 - TP: 119\n",
      "Threshold: 0.16 - Accuracy: 0.96 - FP: 6 - TP: 119\n",
      "Threshold: 0.17 - Accuracy: 0.96 - FP: 5 - TP: 119\n",
      "Threshold: 0.18 - Accuracy: 0.96 - FP: 5 - TP: 119\n",
      "Threshold: 0.19 - Accuracy: 0.96 - FP: 5 - TP: 119\n",
      "Threshold: 0.20 - Accuracy: 0.96 - FP: 5 - TP: 119\n",
      "Threshold: 0.21 - Accuracy: 0.96 - FP: 5 - TP: 119\n",
      "Threshold: 0.22 - Accuracy: 0.96 - FP: 5 - TP: 119\n",
      "Threshold: 0.23 - Accuracy: 0.96 - FP: 5 - TP: 119\n",
      "Threshold: 0.24 - Accuracy: 0.96 - FP: 5 - TP: 119\n",
      "Threshold: 0.25 - Accuracy: 0.97 - FP: 4 - TP: 119\n",
      "Threshold: 0.26 - Accuracy: 0.97 - FP: 4 - TP: 119\n",
      "Threshold: 0.27 - Accuracy: 0.97 - FP: 4 - TP: 119\n",
      "Threshold: 0.28 - Accuracy: 0.97 - FP: 4 - TP: 119\n",
      "Threshold: 0.29 - Accuracy: 0.97 - FP: 4 - TP: 119\n",
      "Threshold: 0.30 - Accuracy: 0.97 - FP: 4 - TP: 119\n",
      "Threshold: 0.31 - Accuracy: 0.97 - FP: 4 - TP: 119\n",
      "Threshold: 0.32 - Accuracy: 0.97 - FP: 2 - TP: 118\n",
      "Threshold: 0.33 - Accuracy: 0.97 - FP: 2 - TP: 118\n",
      "Threshold: 0.34 - Accuracy: 0.97 - FP: 2 - TP: 118\n",
      "Threshold: 0.35 - Accuracy: 0.97 - FP: 2 - TP: 118\n",
      "Threshold: 0.36 - Accuracy: 0.97 - FP: 2 - TP: 117\n",
      "Threshold: 0.37 - Accuracy: 0.97 - FP: 2 - TP: 117\n",
      "Threshold: 0.38 - Accuracy: 0.97 - FP: 2 - TP: 117\n",
      "Threshold: 0.39 - Accuracy: 0.97 - FP: 2 - TP: 117\n",
      "Threshold: 0.40 - Accuracy: 0.97 - FP: 2 - TP: 117\n",
      "Threshold: 0.41 - Accuracy: 0.97 - FP: 2 - TP: 117\n",
      "Threshold: 0.42 - Accuracy: 0.97 - FP: 2 - TP: 117\n",
      "Threshold: 0.43 - Accuracy: 0.96 - FP: 2 - TP: 116\n",
      "Threshold: 0.44 - Accuracy: 0.96 - FP: 2 - TP: 116\n",
      "Threshold: 0.45 - Accuracy: 0.96 - FP: 2 - TP: 116\n",
      "Threshold: 0.46 - Accuracy: 0.96 - FP: 2 - TP: 115\n",
      "Threshold: 0.47 - Accuracy: 0.96 - FP: 2 - TP: 115\n",
      "Threshold: 0.48 - Accuracy: 0.96 - FP: 2 - TP: 115\n",
      "Threshold: 0.49 - Accuracy: 0.96 - FP: 2 - TP: 115\n",
      "Threshold: 0.50 - Accuracy: 0.96 - FP: 2 - TP: 115\n",
      "Threshold: 0.51 - Accuracy: 0.96 - FP: 1 - TP: 115\n",
      "Threshold: 0.52 - Accuracy: 0.96 - FP: 1 - TP: 115\n",
      "Threshold: 0.53 - Accuracy: 0.96 - FP: 1 - TP: 115\n",
      "Threshold: 0.54 - Accuracy: 0.96 - FP: 1 - TP: 115\n",
      "Threshold: 0.55 - Accuracy: 0.96 - FP: 1 - TP: 114\n",
      "Threshold: 0.56 - Accuracy: 0.96 - FP: 1 - TP: 114\n",
      "Threshold: 0.57 - Accuracy: 0.96 - FP: 1 - TP: 114\n",
      "Threshold: 0.58 - Accuracy: 0.96 - FP: 1 - TP: 114\n",
      "Threshold: 0.59 - Accuracy: 0.96 - FP: 1 - TP: 114\n",
      "Threshold: 0.60 - Accuracy: 0.96 - FP: 1 - TP: 114\n",
      "Threshold: 0.61 - Accuracy: 0.96 - FP: 1 - TP: 114\n",
      "Threshold: 0.62 - Accuracy: 0.96 - FP: 1 - TP: 114\n",
      "Threshold: 0.63 - Accuracy: 0.96 - FP: 1 - TP: 114\n",
      "Threshold: 0.64 - Accuracy: 0.96 - FP: 1 - TP: 114\n",
      "Threshold: 0.65 - Accuracy: 0.96 - FP: 1 - TP: 114\n",
      "Threshold: 0.66 - Accuracy: 0.96 - FP: 1 - TP: 114\n",
      "Threshold: 0.67 - Accuracy: 0.96 - FP: 1 - TP: 114\n",
      "Threshold: 0.68 - Accuracy: 0.96 - FP: 1 - TP: 114\n",
      "Threshold: 0.69 - Accuracy: 0.96 - FP: 1 - TP: 114\n",
      "Threshold: 0.70 - Accuracy: 0.96 - FP: 1 - TP: 114\n",
      "Threshold: 0.71 - Accuracy: 0.96 - FP: 1 - TP: 114\n",
      "Threshold: 0.72 - Accuracy: 0.95 - FP: 1 - TP: 113\n",
      "Threshold: 0.73 - Accuracy: 0.95 - FP: 1 - TP: 113\n",
      "Threshold: 0.74 - Accuracy: 0.95 - FP: 1 - TP: 112\n",
      "Threshold: 0.75 - Accuracy: 0.95 - FP: 1 - TP: 112\n",
      "Threshold: 0.76 - Accuracy: 0.94 - FP: 1 - TP: 111\n",
      "Threshold: 0.77 - Accuracy: 0.93 - FP: 1 - TP: 109\n",
      "Threshold: 0.78 - Accuracy: 0.93 - FP: 1 - TP: 108\n",
      "Threshold: 0.79 - Accuracy: 0.92 - FP: 1 - TP: 107\n",
      "Threshold: 0.80 - Accuracy: 0.92 - FP: 1 - TP: 107\n",
      "Threshold: 0.81 - Accuracy: 0.91 - FP: 1 - TP: 106\n",
      "Threshold: 0.82 - Accuracy: 0.91 - FP: 1 - TP: 105\n",
      "Threshold: 0.83 - Accuracy: 0.91 - FP: 0 - TP: 104\n",
      "Threshold: 0.84 - Accuracy: 0.91 - FP: 0 - TP: 104\n",
      "Threshold: 0.85 - Accuracy: 0.90 - FP: 0 - TP: 103\n",
      "Threshold: 0.86 - Accuracy: 0.90 - FP: 0 - TP: 103\n",
      "Threshold: 0.87 - Accuracy: 0.89 - FP: 0 - TP: 101\n",
      "Threshold: 0.88 - Accuracy: 0.89 - FP: 0 - TP: 101\n",
      "Threshold: 0.89 - Accuracy: 0.88 - FP: 0 - TP: 98\n",
      "Threshold: 0.90 - Accuracy: 0.88 - FP: 0 - TP: 98\n",
      "Threshold: 0.91 - Accuracy: 0.87 - FP: 0 - TP: 97\n",
      "Threshold: 0.92 - Accuracy: 0.85 - FP: 0 - TP: 92\n",
      "Threshold: 0.93 - Accuracy: 0.84 - FP: 0 - TP: 91\n",
      "Threshold: 0.94 - Accuracy: 0.84 - FP: 0 - TP: 90\n",
      "Threshold: 0.95 - Accuracy: 0.81 - FP: 0 - TP: 86\n",
      "Threshold: 0.96 - Accuracy: 0.81 - FP: 0 - TP: 85\n",
      "Threshold: 0.97 - Accuracy: 0.78 - FP: 0 - TP: 79\n",
      "Threshold: 0.98 - Accuracy: 0.74 - FP: 0 - TP: 73\n",
      "Threshold: 0.99 - Accuracy: 0.67 - FP: 0 - TP: 59\n",
      "Threshold: 1.00 - Accuracy: 0.36 - FP: 0 - TP: 0\n",
      "[[8.98936170e-01 1.00000000e-02 1.90000000e+01 1.21000000e+02]\n",
      " [9.20212766e-01 2.00000000e-02 1.50000000e+01 1.21000000e+02]\n",
      " [9.25531915e-01 3.00000000e-02 1.40000000e+01 1.21000000e+02]\n",
      " [9.30851064e-01 4.00000000e-02 1.30000000e+01 1.21000000e+02]\n",
      " [9.41489362e-01 5.00000000e-02 1.10000000e+01 1.21000000e+02]\n",
      " [9.41489362e-01 6.00000000e-02 1.10000000e+01 1.21000000e+02]\n",
      " [9.52127660e-01 7.00000000e-02 9.00000000e+00 1.21000000e+02]\n",
      " [9.52127660e-01 8.00000000e-02 9.00000000e+00 1.21000000e+02]\n",
      " [9.46808511e-01 9.00000000e-02 9.00000000e+00 1.20000000e+02]\n",
      " [9.52127660e-01 1.00000000e-01 8.00000000e+00 1.20000000e+02]\n",
      " [9.52127660e-01 1.10000000e-01 8.00000000e+00 1.20000000e+02]\n",
      " [9.52127660e-01 1.20000000e-01 7.00000000e+00 1.19000000e+02]\n",
      " [9.57446809e-01 1.30000000e-01 6.00000000e+00 1.19000000e+02]\n",
      " [9.57446809e-01 1.40000000e-01 6.00000000e+00 1.19000000e+02]\n",
      " [9.57446809e-01 1.50000000e-01 6.00000000e+00 1.19000000e+02]\n",
      " [9.57446809e-01 1.60000000e-01 6.00000000e+00 1.19000000e+02]\n",
      " [9.62765957e-01 1.70000000e-01 5.00000000e+00 1.19000000e+02]\n",
      " [9.62765957e-01 1.80000000e-01 5.00000000e+00 1.19000000e+02]\n",
      " [9.62765957e-01 1.90000000e-01 5.00000000e+00 1.19000000e+02]\n",
      " [9.62765957e-01 2.00000000e-01 5.00000000e+00 1.19000000e+02]\n",
      " [9.62765957e-01 2.10000000e-01 5.00000000e+00 1.19000000e+02]\n",
      " [9.62765957e-01 2.20000000e-01 5.00000000e+00 1.19000000e+02]\n",
      " [9.62765957e-01 2.30000000e-01 5.00000000e+00 1.19000000e+02]\n",
      " [9.62765957e-01 2.40000000e-01 5.00000000e+00 1.19000000e+02]\n",
      " [9.68085106e-01 2.50000000e-01 4.00000000e+00 1.19000000e+02]\n",
      " [9.68085106e-01 2.60000000e-01 4.00000000e+00 1.19000000e+02]\n",
      " [9.68085106e-01 2.70000000e-01 4.00000000e+00 1.19000000e+02]\n",
      " [9.68085106e-01 2.80000000e-01 4.00000000e+00 1.19000000e+02]\n",
      " [9.68085106e-01 2.90000000e-01 4.00000000e+00 1.19000000e+02]\n",
      " [9.68085106e-01 3.00000000e-01 4.00000000e+00 1.19000000e+02]\n",
      " [9.68085106e-01 3.10000000e-01 4.00000000e+00 1.19000000e+02]\n",
      " [9.73404255e-01 3.20000000e-01 2.00000000e+00 1.18000000e+02]\n",
      " [9.73404255e-01 3.30000000e-01 2.00000000e+00 1.18000000e+02]\n",
      " [9.73404255e-01 3.40000000e-01 2.00000000e+00 1.18000000e+02]\n",
      " [9.73404255e-01 3.50000000e-01 2.00000000e+00 1.18000000e+02]\n",
      " [9.68085106e-01 3.60000000e-01 2.00000000e+00 1.17000000e+02]\n",
      " [9.68085106e-01 3.70000000e-01 2.00000000e+00 1.17000000e+02]\n",
      " [9.68085106e-01 3.80000000e-01 2.00000000e+00 1.17000000e+02]\n",
      " [9.68085106e-01 3.90000000e-01 2.00000000e+00 1.17000000e+02]\n",
      " [9.68085106e-01 4.00000000e-01 2.00000000e+00 1.17000000e+02]\n",
      " [9.68085106e-01 4.10000000e-01 2.00000000e+00 1.17000000e+02]\n",
      " [9.68085106e-01 4.20000000e-01 2.00000000e+00 1.17000000e+02]\n",
      " [9.62765957e-01 4.30000000e-01 2.00000000e+00 1.16000000e+02]\n",
      " [9.62765957e-01 4.40000000e-01 2.00000000e+00 1.16000000e+02]\n",
      " [9.62765957e-01 4.50000000e-01 2.00000000e+00 1.16000000e+02]\n",
      " [9.57446809e-01 4.60000000e-01 2.00000000e+00 1.15000000e+02]\n",
      " [9.57446809e-01 4.70000000e-01 2.00000000e+00 1.15000000e+02]\n",
      " [9.57446809e-01 4.80000000e-01 2.00000000e+00 1.15000000e+02]\n",
      " [9.57446809e-01 4.90000000e-01 2.00000000e+00 1.15000000e+02]\n",
      " [9.57446809e-01 5.00000000e-01 2.00000000e+00 1.15000000e+02]\n",
      " [9.62765957e-01 5.10000000e-01 1.00000000e+00 1.15000000e+02]\n",
      " [9.62765957e-01 5.20000000e-01 1.00000000e+00 1.15000000e+02]\n",
      " [9.62765957e-01 5.30000000e-01 1.00000000e+00 1.15000000e+02]\n",
      " [9.62765957e-01 5.40000000e-01 1.00000000e+00 1.15000000e+02]\n",
      " [9.57446809e-01 5.50000000e-01 1.00000000e+00 1.14000000e+02]\n",
      " [9.57446809e-01 5.60000000e-01 1.00000000e+00 1.14000000e+02]\n",
      " [9.57446809e-01 5.70000000e-01 1.00000000e+00 1.14000000e+02]\n",
      " [9.57446809e-01 5.80000000e-01 1.00000000e+00 1.14000000e+02]\n",
      " [9.57446809e-01 5.90000000e-01 1.00000000e+00 1.14000000e+02]\n",
      " [9.57446809e-01 6.00000000e-01 1.00000000e+00 1.14000000e+02]\n",
      " [9.57446809e-01 6.10000000e-01 1.00000000e+00 1.14000000e+02]\n",
      " [9.57446809e-01 6.20000000e-01 1.00000000e+00 1.14000000e+02]\n",
      " [9.57446809e-01 6.30000000e-01 1.00000000e+00 1.14000000e+02]\n",
      " [9.57446809e-01 6.40000000e-01 1.00000000e+00 1.14000000e+02]\n",
      " [9.57446809e-01 6.50000000e-01 1.00000000e+00 1.14000000e+02]\n",
      " [9.57446809e-01 6.60000000e-01 1.00000000e+00 1.14000000e+02]\n",
      " [9.57446809e-01 6.70000000e-01 1.00000000e+00 1.14000000e+02]\n",
      " [9.57446809e-01 6.80000000e-01 1.00000000e+00 1.14000000e+02]\n",
      " [9.57446809e-01 6.90000000e-01 1.00000000e+00 1.14000000e+02]\n",
      " [9.57446809e-01 7.00000000e-01 1.00000000e+00 1.14000000e+02]\n",
      " [9.57446809e-01 7.10000000e-01 1.00000000e+00 1.14000000e+02]\n",
      " [9.52127660e-01 7.20000000e-01 1.00000000e+00 1.13000000e+02]\n",
      " [9.52127660e-01 7.30000000e-01 1.00000000e+00 1.13000000e+02]\n",
      " [9.46808511e-01 7.40000000e-01 1.00000000e+00 1.12000000e+02]\n",
      " [9.46808511e-01 7.50000000e-01 1.00000000e+00 1.12000000e+02]\n",
      " [9.41489362e-01 7.60000000e-01 1.00000000e+00 1.11000000e+02]\n",
      " [9.30851064e-01 7.70000000e-01 1.00000000e+00 1.09000000e+02]\n",
      " [9.25531915e-01 7.80000000e-01 1.00000000e+00 1.08000000e+02]\n",
      " [9.20212766e-01 7.90000000e-01 1.00000000e+00 1.07000000e+02]\n",
      " [9.20212766e-01 8.00000000e-01 1.00000000e+00 1.07000000e+02]\n",
      " [9.14893617e-01 8.10000000e-01 1.00000000e+00 1.06000000e+02]\n",
      " [9.09574468e-01 8.20000000e-01 1.00000000e+00 1.05000000e+02]\n",
      " [9.09574468e-01 8.30000000e-01 0.00000000e+00 1.04000000e+02]\n",
      " [9.09574468e-01 8.40000000e-01 0.00000000e+00 1.04000000e+02]\n",
      " [9.04255319e-01 8.50000000e-01 0.00000000e+00 1.03000000e+02]\n",
      " [9.04255319e-01 8.60000000e-01 0.00000000e+00 1.03000000e+02]\n",
      " [8.93617021e-01 8.70000000e-01 0.00000000e+00 1.01000000e+02]\n",
      " [8.93617021e-01 8.80000000e-01 0.00000000e+00 1.01000000e+02]\n",
      " [8.77659574e-01 8.90000000e-01 0.00000000e+00 9.80000000e+01]\n",
      " [8.77659574e-01 9.00000000e-01 0.00000000e+00 9.80000000e+01]\n",
      " [8.72340426e-01 9.10000000e-01 0.00000000e+00 9.70000000e+01]\n",
      " [8.45744681e-01 9.20000000e-01 0.00000000e+00 9.20000000e+01]\n",
      " [8.40425532e-01 9.30000000e-01 0.00000000e+00 9.10000000e+01]\n",
      " [8.35106383e-01 9.40000000e-01 0.00000000e+00 9.00000000e+01]\n",
      " [8.13829787e-01 9.50000000e-01 0.00000000e+00 8.60000000e+01]\n",
      " [8.08510638e-01 9.60000000e-01 0.00000000e+00 8.50000000e+01]\n",
      " [7.76595745e-01 9.70000000e-01 0.00000000e+00 7.90000000e+01]\n",
      " [7.44680851e-01 9.80000000e-01 0.00000000e+00 7.30000000e+01]\n",
      " [6.70212766e-01 9.90000000e-01 0.00000000e+00 5.90000000e+01]\n",
      " [3.56382979e-01 1.00000000e+00 0.00000000e+00 0.00000000e+00]]\n"
     ]
    }
   ],
   "source": [
    "performances = []\n",
    "fps, tps = [], []\n",
    "\n",
    "for t in thresholds:\n",
    "    fp, tp = eval_fp_tp(y_test, scores, t)\n",
    "    fps.append(fp)\n",
    "    tps.append(tp)\n",
    "    acc = eval_accuracy(y_test, scores, t)\n",
    "    print(f\"Threshold: {t:.2f} - Accuracy: {acc:.2f} - FP: {fp} - TP: {tp}\")\n",
    "    performances.append((acc, t, fp, tp))\n",
    "\n",
    "performances = np.array(performances)\n",
    "print(performances)"
   ]
  },
  {
   "cell_type": "markdown",
   "metadata": {},
   "source": [
    "# Plotting\n",
    "\n",
    "Let us then start plotting the coverage plot for the obtained classifications."
   ]
  },
  {
   "cell_type": "code",
   "execution_count": 13,
   "metadata": {},
   "outputs": [
    {
     "data": {
      "text/plain": [
       "[<matplotlib.lines.Line2D at 0x28027202ce0>]"
      ]
     },
     "execution_count": 13,
     "metadata": {},
     "output_type": "execute_result"
    },
    {
     "data": {
      "image/png": "[encoded data removed]",
      "text/plain": [
       "<Figure size 640x480 with 1 Axes>"
      ]
     },
     "metadata": {},
     "output_type": "display_data"
    }
   ],
   "source": [
    "plt.plot(fps, tps)\n"
   ]
  },
  {
   "cell_type": "markdown",
   "metadata": {},
   "source": [
    "# Checking performances for threshold 0.5\n",
    "\n",
    "The predict_proba method we used to get the score returns the probability that examples belong to the positive class. Usually the positive class is then predicted as score > 0.5 (since in this case it is the one with the largest likelihood).\n",
    "\n",
    "Let's then see where this classifier (i.e., the one obtained setting the threshold to 0.5) lays in the coverage plot and if there are better options.\n",
    "\n",
    "**note**: since we saved interesting stats in the `performances` array, we can retrieve the fp, tp position of the classifier we get by setting the thresholds to 0.5, by finding the position of the row we are interested using the expression: `performances[:,1] == 0.5` and then using the resulting boolean vector to retrieve the correct row of the matrix: `performances[performances[:,1] == 0.5]`.\n",
    "```"
   ]
  },
  {
   "cell_type": "code",
   "execution_count": 14,
   "metadata": {},
   "outputs": [
    {
     "data": {
      "text/plain": [
       "[<matplotlib.lines.Line2D at 0x28027315ed0>]"
      ]
     },
     "execution_count": 14,
     "metadata": {},
     "output_type": "execute_result"
    },
    {
     "data": {
      "image/png": "[encoded data removed]",
      "text/plain": [
       "<Figure size 640x480 with 1 Axes>"
      ]
     },
     "metadata": {},
     "output_type": "display_data"
    }
   ],
   "source": [
    "plt.plot(fps, tps)\n",
    "accuracy, threshold, fp, tp = performances[performances[:,1] == 0.5][0]\n",
    "plt.scatter(fp,tp,color='red')\n",
    "plt.plot([fp-10,fp+10],[tp-10,tp+10], color=\"red\")"
   ]
  },
  {
   "cell_type": "markdown",
   "metadata": {},
   "source": [
    "As it is shown by the red dot and the red line, threshold 0.5 is a good one, but apparently two other points can reach a better classification.\n",
    "\n",
    "Let us see where these point lay in the plot and what is their accuracy."
   ]
  },
  {
   "cell_type": "code",
   "execution_count": 15,
   "metadata": {},
   "outputs": [
    {
     "data": {
      "text/plain": [
       "array([[  0.96276596,   0.17      ,   5.        , 119.        ],\n",
       "       [  0.96276596,   0.18      ,   5.        , 119.        ],\n",
       "       [  0.96276596,   0.19      ,   5.        , 119.        ],\n",
       "       [  0.96276596,   0.2       ,   5.        , 119.        ],\n",
       "       [  0.96276596,   0.21      ,   5.        , 119.        ],\n",
       "       [  0.96276596,   0.22      ,   5.        , 119.        ],\n",
       "       [  0.96276596,   0.23      ,   5.        , 119.        ],\n",
       "       [  0.96276596,   0.24      ,   5.        , 119.        ],\n",
       "       [  0.96808511,   0.25      ,   4.        , 119.        ],\n",
       "       [  0.96808511,   0.26      ,   4.        , 119.        ],\n",
       "       [  0.96808511,   0.27      ,   4.        , 119.        ],\n",
       "       [  0.96808511,   0.28      ,   4.        , 119.        ],\n",
       "       [  0.96808511,   0.29      ,   4.        , 119.        ],\n",
       "       [  0.96808511,   0.3       ,   4.        , 119.        ],\n",
       "       [  0.96808511,   0.31      ,   4.        , 119.        ],\n",
       "       [  0.97340426,   0.32      ,   2.        , 118.        ],\n",
       "       [  0.97340426,   0.33      ,   2.        , 118.        ],\n",
       "       [  0.97340426,   0.34      ,   2.        , 118.        ],\n",
       "       [  0.97340426,   0.35      ,   2.        , 118.        ],\n",
       "       [  0.96808511,   0.36      ,   2.        , 117.        ],\n",
       "       [  0.96808511,   0.37      ,   2.        , 117.        ],\n",
       "       [  0.96808511,   0.38      ,   2.        , 117.        ],\n",
       "       [  0.96808511,   0.39      ,   2.        , 117.        ],\n",
       "       [  0.96808511,   0.4       ,   2.        , 117.        ],\n",
       "       [  0.96808511,   0.41      ,   2.        , 117.        ],\n",
       "       [  0.96808511,   0.42      ,   2.        , 117.        ],\n",
       "       [  0.96276596,   0.43      ,   2.        , 116.        ],\n",
       "       [  0.96276596,   0.44      ,   2.        , 116.        ],\n",
       "       [  0.96276596,   0.45      ,   2.        , 116.        ],\n",
       "       [  0.96276596,   0.51      ,   1.        , 115.        ],\n",
       "       [  0.96276596,   0.52      ,   1.        , 115.        ],\n",
       "       [  0.96276596,   0.53      ,   1.        , 115.        ],\n",
       "       [  0.96276596,   0.54      ,   1.        , 115.        ]])"
      ]
     },
     "execution_count": 15,
     "metadata": {},
     "output_type": "execute_result"
    }
   ],
   "source": [
    "# Note: the subscription returns a matrix with a single row, but still two dimensions, \n",
    "# we need to get the element in the first position of that matrix...\n",
    "\n",
    "perf05 = performances[performances[:, 1] == 0.5][0,0] \n",
    "performances[performances[:,0] > perf05]"
   ]
  },
  {
   "cell_type": "markdown",
   "metadata": {},
   "source": [
    "The two points that we are looking for are then in position (5,121) and (1,117)"
   ]
  },
  {
   "cell_type": "code",
   "execution_count": 16,
   "metadata": {},
   "outputs": [
    {
     "data": {
      "text/plain": [
       "[<matplotlib.lines.Line2D at 0x280273b8910>]"
      ]
     },
     "execution_count": 16,
     "metadata": {},
     "output_type": "execute_result"
    },
    {
     "data": {
      "image/png": "[encoded data removed]",
      "text/plain": [
       "<Figure size 640x480 with 1 Axes>"
      ]
     },
     "metadata": {},
     "output_type": "display_data"
    }
   ],
   "source": [
    "plt.plot(fps, tps)\n",
    "fp, tp = eval_fp_tp(y_test, scores > 0.5, 0.5)\n",
    "plt.scatter(fp,tp, color=\"red\")\n",
    "plt.scatter(5,121, color=\"orange\")\n",
    "plt.scatter(1,117, color=\"orange\")\n",
    "plt.plot([fp-10,fp+10],[tp-10,tp+10], color=\"red\")"
   ]
  },
  {
   "cell_type": "markdown",
   "metadata": {},
   "source": [
    "These two points (that we found by looking only to the accuracies) are indeed the two points that the plot show having a better accuracy. "
   ]
  }
 ],
 "metadata": {
  "kernelspec": {
   "display_name": "Python 3.10.4 ('env AAUT': venv)",
   "language": "python",
   "name": "python3"
  },
  "language_info": {
   "codemirror_mode": {
    "name": "ipython",
    "version": 3
   },
   "file_extension": ".py",
   "mimetype": "text/x-python",
   "name": "python",
   "nbconvert_exporter": "python",
   "pygments_lexer": "ipython3",
   "version": "3.10.4"
  },
  "orig_nbformat": 2,
  "vscode": {
   "interpreter": {
    "hash": "08df9d67eeb19508b6e989f65b8131cfcf83a113e5c870321e1f1972c1b40b32"
   }
  }
 },
 "nbformat": 4,
 "nbformat_minor": 2
}
