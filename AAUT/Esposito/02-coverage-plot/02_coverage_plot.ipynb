{
 "cells": [
  {
   "cell_type": "code",
   "execution_count": 1,
   "metadata": {},
   "outputs": [],
   "source": [
    "from sklearn.datasets import load_breast_cancer\n",
    "import numpy as np\n",
    "from sklearn.linear_model import LogisticRegression\n",
    "from sklearn.model_selection import train_test_split\n",
    "import matplotlib.pyplot as plt"
   ]
  },
  {
   "cell_type": "markdown",
   "metadata": {},
   "source": [
    "# Loading datasets"
   ]
  },
  {
   "cell_type": "code",
   "execution_count": 2,
   "metadata": {},
   "outputs": [
    {
     "data": {
      "text/plain": [
       "17070"
      ]
     },
     "execution_count": 2,
     "metadata": {},
     "output_type": "execute_result"
    }
   ],
   "source": [
    "X,y = load_breast_cancer(return_X_y=True)\n",
    "X.size"
   ]
  },
  {
   "cell_type": "code",
   "execution_count": 3,
   "metadata": {},
   "outputs": [
    {
     "data": {
      "text/plain": [
       "array([0, 1, 1, 1, 1, 1, 1, 1, 1, 1, 1, 1, 1, 1, 1, 0, 1, 0, 0, 0, 0, 0,\n",
       "       1, 1, 0, 1, 1, 0, 1, 0, 1, 0, 1, 0, 1, 0, 1, 0, 1, 0, 0, 1, 0, 1,\n",
       "       1, 0, 1, 1, 1, 0, 0, 0, 0, 1, 1, 1, 1, 1, 1, 0, 0, 0, 1, 1, 0, 1,\n",
       "       0, 0, 0, 1, 1, 0, 1, 0, 0, 1, 1, 1, 1, 1, 0, 0, 0, 1, 0, 1, 1, 1,\n",
       "       0, 0, 1, 0, 1, 0, 1, 1, 0, 1, 1, 1, 1, 1, 1, 1, 0, 1, 0, 1, 0, 0,\n",
       "       1, 0, 0, 1, 1, 1, 1, 1, 1, 1, 1, 1, 0, 1, 0, 1, 1, 1, 1, 1, 0, 1,\n",
       "       1, 1, 1, 1, 1, 0, 0, 1, 1, 1, 0])"
      ]
     },
     "execution_count": 3,
     "metadata": {},
     "output_type": "execute_result"
    }
   ],
   "source": [
    "# Split train/test\n",
    "X_train, X_test, y_train, y_test = train_test_split(X, y, test_size=0.25, shuffle=True, random_state=0)\n",
    "y_test"
   ]
  },
  {
   "cell_type": "markdown",
   "metadata": {},
   "source": []
  },
  {
   "cell_type": "markdown",
   "metadata": {},
   "source": [
    "# Fitting the data"
   ]
  },
  {
   "cell_type": "code",
   "execution_count": 4,
   "metadata": {},
   "outputs": [],
   "source": [
    "lr = LogisticRegression()"
   ]
  },
  {
   "cell_type": "code",
   "execution_count": 5,
   "metadata": {},
   "outputs": [
    {
     "name": "stderr",
     "output_type": "stream",
     "text": [
      "c:\\Users\\andre\\Desktop\\Università\\Magistrale\\AAUT\\env AAUT\\lib\\site-packages\\sklearn\\linear_model\\_logistic.py:444: ConvergenceWarning: lbfgs failed to converge (status=1):\n",
      "STOP: TOTAL NO. of ITERATIONS REACHED LIMIT.\n",
      "\n",
      "Increase the number of iterations (max_iter) or scale the data as shown in:\n",
      "    https://scikit-learn.org/stable/modules/preprocessing.html\n",
      "Please also refer to the documentation for alternative solver options:\n",
      "    https://scikit-learn.org/stable/modules/linear_model.html#logistic-regression\n",
      "  n_iter_i = _check_optimize_result(\n"
     ]
    },
    {
     "data": {
      "text/html": [
       "<style>#sk-container-id-1 {color: black;background-color: white;}#sk-container-id-1 pre{padding: 0;}#sk-container-id-1 div.sk-toggleable {background-color: white;}#sk-container-id-1 label.sk-toggleable__label {cursor: pointer;display: block;width: 100%;margin-bottom: 0;padding: 0.3em;box-sizing: border-box;text-align: center;}#sk-container-id-1 label.sk-toggleable__label-arrow:before {content: \"▸\";float: left;margin-right: 0.25em;color: #696969;}#sk-container-id-1 label.sk-toggleable__label-arrow:hover:before {color: black;}#sk-container-id-1 div.sk-estimator:hover label.sk-toggleable__label-arrow:before {color: black;}#sk-container-id-1 div.sk-toggleable__content {max-height: 0;max-width: 0;overflow: hidden;text-align: left;background-color: #f0f8ff;}#sk-container-id-1 div.sk-toggleable__content pre {margin: 0.2em;color: black;border-radius: 0.25em;background-color: #f0f8ff;}#sk-container-id-1 input.sk-toggleable__control:checked~div.sk-toggleable__content {max-height: 200px;max-width: 100%;overflow: auto;}#sk-container-id-1 input.sk-toggleable__control:checked~label.sk-toggleable__label-arrow:before {content: \"▾\";}#sk-container-id-1 div.sk-estimator input.sk-toggleable__control:checked~label.sk-toggleable__label {background-color: #d4ebff;}#sk-container-id-1 div.sk-label input.sk-toggleable__control:checked~label.sk-toggleable__label {background-color: #d4ebff;}#sk-container-id-1 input.sk-hidden--visually {border: 0;clip: rect(1px 1px 1px 1px);clip: rect(1px, 1px, 1px, 1px);height: 1px;margin: -1px;overflow: hidden;padding: 0;position: absolute;width: 1px;}#sk-container-id-1 div.sk-estimator {font-family: monospace;background-color: #f0f8ff;border: 1px dotted black;border-radius: 0.25em;box-sizing: border-box;margin-bottom: 0.5em;}#sk-container-id-1 div.sk-estimator:hover {background-color: #d4ebff;}#sk-container-id-1 div.sk-parallel-item::after {content: \"\";width: 100%;border-bottom: 1px solid gray;flex-grow: 1;}#sk-container-id-1 div.sk-label:hover label.sk-toggleable__label {background-color: #d4ebff;}#sk-container-id-1 div.sk-serial::before {content: \"\";position: absolute;border-left: 1px solid gray;box-sizing: border-box;top: 0;bottom: 0;left: 50%;z-index: 0;}#sk-container-id-1 div.sk-serial {display: flex;flex-direction: column;align-items: center;background-color: white;padding-right: 0.2em;padding-left: 0.2em;position: relative;}#sk-container-id-1 div.sk-item {position: relative;z-index: 1;}#sk-container-id-1 div.sk-parallel {display: flex;align-items: stretch;justify-content: center;background-color: white;position: relative;}#sk-container-id-1 div.sk-item::before, #sk-container-id-1 div.sk-parallel-item::before {content: \"\";position: absolute;border-left: 1px solid gray;box-sizing: border-box;top: 0;bottom: 0;left: 50%;z-index: -1;}#sk-container-id-1 div.sk-parallel-item {display: flex;flex-direction: column;z-index: 1;position: relative;background-color: white;}#sk-container-id-1 div.sk-parallel-item:first-child::after {align-self: flex-end;width: 50%;}#sk-container-id-1 div.sk-parallel-item:last-child::after {align-self: flex-start;width: 50%;}#sk-container-id-1 div.sk-parallel-item:only-child::after {width: 0;}#sk-container-id-1 div.sk-dashed-wrapped {border: 1px dashed gray;margin: 0 0.4em 0.5em 0.4em;box-sizing: border-box;padding-bottom: 0.4em;background-color: white;}#sk-container-id-1 div.sk-label label {font-family: monospace;font-weight: bold;display: inline-block;line-height: 1.2em;}#sk-container-id-1 div.sk-label-container {text-align: center;}#sk-container-id-1 div.sk-container {/* jupyter's `normalize.less` sets `[hidden] { display: none; }` but bootstrap.min.css set `[hidden] { display: none !important; }` so we also need the `!important` here to be able to override the default hidden behavior on the sphinx rendered scikit-learn.org. See: https://github.com/scikit-learn/scikit-learn/issues/21755 */display: inline-block !important;position: relative;}#sk-container-id-1 div.sk-text-repr-fallback {display: none;}</style><div id=\"sk-container-id-1\" class=\"sk-top-container\"><div class=\"sk-text-repr-fallback\"><pre>LogisticRegression()</pre><b>In a Jupyter environment, please rerun this cell to show the HTML representation or trust the notebook. <br />On GitHub, the HTML representation is unable to render, please try loading this page with nbviewer.org.</b></div><div class=\"sk-container\" hidden><div class=\"sk-item\"><div class=\"sk-estimator sk-toggleable\"><input class=\"sk-toggleable__control sk-hidden--visually\" id=\"sk-estimator-id-1\" type=\"checkbox\" checked><label for=\"sk-estimator-id-1\" class=\"sk-toggleable__label sk-toggleable__label-arrow\">LogisticRegression</label><div class=\"sk-toggleable__content\"><pre>LogisticRegression()</pre></div></div></div></div></div>"
      ],
      "text/plain": [
       "LogisticRegression()"
      ]
     },
     "execution_count": 5,
     "metadata": {},
     "output_type": "execute_result"
    }
   ],
   "source": [
    "lr.fit(X_train, y_train)"
   ]
  },
  {
   "cell_type": "markdown",
   "metadata": {},
   "source": [
    "# Making predictions"
   ]
  },
  {
   "cell_type": "code",
   "execution_count": 6,
   "metadata": {},
   "outputs": [
    {
     "name": "stdout",
     "output_type": "stream",
     "text": [
      "[0 1 1 1 1 1 1 1 1 1 0 1 1 0 1 0 1 0 0 0 0 0 1 1 0 1 1 0 1 0 1 0 1 0 1 0 1\n",
      " 0 1 0 0 1 0 1 0 0 1 1 1 0 0 0 0 1 1 1 1 1 1 0 0 0 1 1 0 1 0 0 0 1 0 0 1 1\n",
      " 0 1 1 1 1 1 0 0 0 1 0 1 1 1 0 0 1 0 0 0 1 1 0 1 1 1 1 1 1 1 0 1 0 1 0 0 1\n",
      " 0 0 1 1 1 1 1 1 1 1 1 0 1 0 1 0 1 1 1 0 1 1 1 1 1 1 0 0 1 1 1 0]\n"
     ]
    },
    {
     "data": {
      "text/plain": [
       "array([4.39312676e-03, 9.82304998e-01, 9.98074597e-01, 8.23837762e-01,\n",
       "       9.99927034e-01, 9.97666036e-01, 9.94626430e-01, 9.98615422e-01,\n",
       "       9.79839805e-01, 9.99668038e-01, 3.16240339e-01, 8.81737376e-01,\n",
       "       9.97209566e-01, 1.40035289e-01, 6.98933362e-01, 3.40377829e-03,\n",
       "       9.85083173e-01, 1.36333896e-09, 6.52198748e-04, 4.36767759e-13,\n",
       "       7.12036645e-06, 8.04424391e-02, 9.98696225e-01, 9.90524655e-01,\n",
       "       7.44161574e-03, 9.82017507e-01, 9.97615589e-01, 1.57616296e-01,\n",
       "       9.97742737e-01, 7.41877162e-12, 9.99552059e-01, 1.37622698e-08,\n",
       "       6.01592904e-01, 3.14963449e-04, 9.99812345e-01, 1.09105435e-03,\n",
       "       9.01960040e-01, 5.57615350e-07, 9.96887383e-01, 1.71561694e-04,\n",
       "       7.44306514e-02, 9.95105472e-01, 1.75975907e-03, 9.99216419e-01,\n",
       "       3.33905879e-02, 6.92580805e-14, 9.99742840e-01, 9.74126073e-01,\n",
       "       9.98627085e-01, 2.66653214e-04, 4.54194392e-07, 3.00396445e-01,\n",
       "       2.27608028e-07, 9.96616957e-01, 9.91881405e-01, 9.99206211e-01,\n",
       "       9.93197298e-01, 9.74945654e-01, 9.84230108e-01, 5.86054895e-19,\n",
       "       5.93786746e-03, 1.49242067e-05, 9.97238624e-01, 9.95164671e-01,\n",
       "       1.16813011e-08, 8.76821759e-01, 1.16134074e-20, 2.68870563e-05,\n",
       "       3.73378531e-09, 9.89774848e-01, 3.42938976e-01, 5.17120580e-06,\n",
       "       9.96921367e-01, 8.74148121e-01, 6.21638600e-07, 9.84331642e-01,\n",
       "       9.96885064e-01, 9.92658001e-01, 9.94802230e-01, 9.89847027e-01,\n",
       "       1.72202806e-03, 4.41641860e-11, 8.22532468e-06, 9.99489536e-01,\n",
       "       4.85938221e-02, 9.99155868e-01, 9.96294531e-01, 9.98633962e-01,\n",
       "       1.49785247e-05, 3.00811629e-12, 9.99658498e-01, 2.33702526e-01,\n",
       "       3.91001016e-01, 2.79201072e-04, 9.79471176e-01, 9.88929947e-01,\n",
       "       5.94069000e-18, 7.11959565e-01, 9.63452217e-01, 9.84832938e-01,\n",
       "       9.98664489e-01, 9.96207153e-01, 9.95706041e-01, 9.33804400e-01,\n",
       "       2.52207357e-08, 9.97771211e-01, 1.95630959e-05, 7.67411991e-01,\n",
       "       1.77445360e-01, 1.72557348e-01, 9.75670720e-01, 5.72483346e-04,\n",
       "       4.27362830e-06, 8.51720616e-01, 9.93250988e-01, 8.61451897e-01,\n",
       "       9.51085873e-01, 9.99513737e-01, 8.22692448e-01, 9.94815537e-01,\n",
       "       9.86564020e-01, 9.98458308e-01, 3.52538658e-02, 9.91143297e-01,\n",
       "       8.92404650e-09, 9.48218326e-01, 2.24830497e-01, 9.99615887e-01,\n",
       "       9.99301317e-01, 9.99065234e-01, 4.63045543e-07, 9.82318809e-01,\n",
       "       9.98199043e-01, 9.07905904e-01, 8.80819123e-01, 9.99749058e-01,\n",
       "       7.79963690e-01, 5.60225252e-02, 9.08334798e-23, 9.99372864e-01,\n",
       "       9.98192783e-01, 9.99227393e-01, 1.95861590e-14])"
      ]
     },
     "execution_count": 6,
     "metadata": {},
     "output_type": "execute_result"
    }
   ],
   "source": [
    "predicted = lr.predict(X_test)\n",
    "print(predicted)\n",
    "scores = lr.predict_proba(X_test)[:,1] # versione scoring del calssificatore. score delle calssificazioni\n",
    "scores"
   ]
  },
  {
   "cell_type": "markdown",
   "metadata": {},
   "source": [
    "# Functions for evaluating fp,tp and accuracy"
   ]
  },
  {
   "cell_type": "code",
   "execution_count": 7,
   "metadata": {},
   "outputs": [],
   "source": [
    "def eval_fp_tp(actual, predicted, threshold):\n",
    "    # returns tuple (fp, tp)\n",
    "    tp = 0\n",
    "    fp = 0\n",
    "    for i in range(len(actual)):\n",
    "        if predicted[i] >= threshold and actual[i] == 1:\n",
    "            tp += 1\n",
    "        elif actual[i] == 0 and predicted[i] >= threshold:\n",
    "            fp += 1\n",
    "    return fp, tp"
   ]
  },
  {
   "cell_type": "code",
   "execution_count": 8,
   "metadata": {},
   "outputs": [
    {
     "data": {
      "text/plain": [
       "(1, 84)"
      ]
     },
     "execution_count": 8,
     "metadata": {},
     "output_type": "execute_result"
    }
   ],
   "source": [
    "eval_fp_tp(y_test, scores, 0.5)"
   ]
  },
  {
   "cell_type": "code",
   "execution_count": 9,
   "metadata": {},
   "outputs": [],
   "source": [
    "def eval_accuracy(actual, predicted, threshold):\n",
    "    correct = 0\n",
    "    for i in range(len(actual)):\n",
    "        if predicted[i] >= threshold and actual[i] == 1:\n",
    "            correct += 1\n",
    "        elif predicted[i] < threshold and actual[i] == 0:\n",
    "            correct += 1\n",
    "    return correct/len(actual)"
   ]
  },
  {
   "cell_type": "code",
   "execution_count": 10,
   "metadata": {},
   "outputs": [
    {
     "data": {
      "text/plain": [
       "0.951048951048951"
      ]
     },
     "execution_count": 10,
     "metadata": {},
     "output_type": "execute_result"
    }
   ],
   "source": [
    "eval_accuracy(y_test, scores, 0.5)"
   ]
  },
  {
   "cell_type": "markdown",
   "metadata": {},
   "source": [
    "# fp,tp and accuracy evaluations for different thresholds\n",
    "\n",
    "Given the scores for the test cases, we might want to find the best possible threshold for classification, i.e., the real value $t$ such that `scores >` $t$ gives the best classifiation of the examples. \n",
    "\n",
    "Let us then start to consider 100 possible thresholds in the range $[0,1]$:"
   ]
  },
  {
   "cell_type": "code",
   "execution_count": 11,
   "metadata": {},
   "outputs": [
    {
     "data": {
      "text/plain": [
       "array([0.01, 0.02, 0.03, 0.04, 0.05, 0.06, 0.07, 0.08, 0.09, 0.1 , 0.11,\n",
       "       0.12, 0.13, 0.14, 0.15, 0.16, 0.17, 0.18, 0.19, 0.2 , 0.21, 0.22,\n",
       "       0.23, 0.24, 0.25, 0.26, 0.27, 0.28, 0.29, 0.3 , 0.31, 0.32, 0.33,\n",
       "       0.34, 0.35, 0.36, 0.37, 0.38, 0.39, 0.4 , 0.41, 0.42, 0.43, 0.44,\n",
       "       0.45, 0.46, 0.47, 0.48, 0.49, 0.5 , 0.51, 0.52, 0.53, 0.54, 0.55,\n",
       "       0.56, 0.57, 0.58, 0.59, 0.6 , 0.61, 0.62, 0.63, 0.64, 0.65, 0.66,\n",
       "       0.67, 0.68, 0.69, 0.7 , 0.71, 0.72, 0.73, 0.74, 0.75, 0.76, 0.77,\n",
       "       0.78, 0.79, 0.8 , 0.81, 0.82, 0.83, 0.84, 0.85, 0.86, 0.87, 0.88,\n",
       "       0.89, 0.9 , 0.91, 0.92, 0.93, 0.94, 0.95, 0.96, 0.97, 0.98, 0.99,\n",
       "       1.  ])"
      ]
     },
     "execution_count": 11,
     "metadata": {},
     "output_type": "execute_result"
    }
   ],
   "source": [
    "thresholds = np.linspace(0.01,1,100)\n",
    "thresholds"
   ]
  },
  {
   "cell_type": "markdown",
   "metadata": {},
   "source": [
    "and compute the tp, fp, and accuracy values of the labelings obtained by comparing the scores with those thresholds."
   ]
  },
  {
   "cell_type": "code",
   "execution_count": 12,
   "metadata": {},
   "outputs": [
    {
     "name": "stdout",
     "output_type": "stream",
     "text": [
      "Threshold: 0.01 - Accuracy: 0.92 - FP: 11 - TP: 90\n",
      "Threshold: 0.02 - Accuracy: 0.92 - FP: 11 - TP: 90\n",
      "Threshold: 0.03 - Accuracy: 0.92 - FP: 11 - TP: 90\n",
      "Threshold: 0.04 - Accuracy: 0.92 - FP: 10 - TP: 89\n",
      "Threshold: 0.05 - Accuracy: 0.93 - FP: 9 - TP: 89\n",
      "Threshold: 0.06 - Accuracy: 0.94 - FP: 8 - TP: 89\n",
      "Threshold: 0.07 - Accuracy: 0.94 - FP: 8 - TP: 89\n",
      "Threshold: 0.08 - Accuracy: 0.94 - FP: 7 - TP: 89\n",
      "Threshold: 0.09 - Accuracy: 0.95 - FP: 6 - TP: 89\n",
      "Threshold: 0.10 - Accuracy: 0.95 - FP: 6 - TP: 89\n",
      "Threshold: 0.11 - Accuracy: 0.95 - FP: 6 - TP: 89\n",
      "Threshold: 0.12 - Accuracy: 0.95 - FP: 6 - TP: 89\n",
      "Threshold: 0.13 - Accuracy: 0.95 - FP: 6 - TP: 89\n",
      "Threshold: 0.14 - Accuracy: 0.95 - FP: 6 - TP: 89\n",
      "Threshold: 0.15 - Accuracy: 0.94 - FP: 6 - TP: 88\n",
      "Threshold: 0.16 - Accuracy: 0.95 - FP: 5 - TP: 88\n",
      "Threshold: 0.17 - Accuracy: 0.95 - FP: 5 - TP: 88\n",
      "Threshold: 0.18 - Accuracy: 0.97 - FP: 3 - TP: 88\n",
      "Threshold: 0.19 - Accuracy: 0.97 - FP: 3 - TP: 88\n",
      "Threshold: 0.20 - Accuracy: 0.97 - FP: 3 - TP: 88\n",
      "Threshold: 0.21 - Accuracy: 0.97 - FP: 3 - TP: 88\n",
      "Threshold: 0.22 - Accuracy: 0.97 - FP: 3 - TP: 88\n",
      "Threshold: 0.23 - Accuracy: 0.96 - FP: 3 - TP: 87\n",
      "Threshold: 0.24 - Accuracy: 0.97 - FP: 2 - TP: 87\n",
      "Threshold: 0.25 - Accuracy: 0.97 - FP: 2 - TP: 87\n",
      "Threshold: 0.26 - Accuracy: 0.97 - FP: 2 - TP: 87\n",
      "Threshold: 0.27 - Accuracy: 0.97 - FP: 2 - TP: 87\n",
      "Threshold: 0.28 - Accuracy: 0.97 - FP: 2 - TP: 87\n",
      "Threshold: 0.29 - Accuracy: 0.97 - FP: 2 - TP: 87\n",
      "Threshold: 0.30 - Accuracy: 0.97 - FP: 2 - TP: 87\n",
      "Threshold: 0.31 - Accuracy: 0.97 - FP: 1 - TP: 87\n",
      "Threshold: 0.32 - Accuracy: 0.97 - FP: 1 - TP: 86\n",
      "Threshold: 0.33 - Accuracy: 0.97 - FP: 1 - TP: 86\n",
      "Threshold: 0.34 - Accuracy: 0.97 - FP: 1 - TP: 86\n",
      "Threshold: 0.35 - Accuracy: 0.96 - FP: 1 - TP: 85\n",
      "Threshold: 0.36 - Accuracy: 0.96 - FP: 1 - TP: 85\n",
      "Threshold: 0.37 - Accuracy: 0.96 - FP: 1 - TP: 85\n",
      "Threshold: 0.38 - Accuracy: 0.96 - FP: 1 - TP: 85\n",
      "Threshold: 0.39 - Accuracy: 0.96 - FP: 1 - TP: 85\n",
      "Threshold: 0.40 - Accuracy: 0.95 - FP: 1 - TP: 84\n",
      "Threshold: 0.41 - Accuracy: 0.95 - FP: 1 - TP: 84\n",
      "Threshold: 0.42 - Accuracy: 0.95 - FP: 1 - TP: 84\n",
      "Threshold: 0.43 - Accuracy: 0.95 - FP: 1 - TP: 84\n",
      "Threshold: 0.44 - Accuracy: 0.95 - FP: 1 - TP: 84\n",
      "Threshold: 0.45 - Accuracy: 0.95 - FP: 1 - TP: 84\n",
      "Threshold: 0.46 - Accuracy: 0.95 - FP: 1 - TP: 84\n",
      "Threshold: 0.47 - Accuracy: 0.95 - FP: 1 - TP: 84\n",
      "Threshold: 0.48 - Accuracy: 0.95 - FP: 1 - TP: 84\n",
      "Threshold: 0.49 - Accuracy: 0.95 - FP: 1 - TP: 84\n",
      "Threshold: 0.50 - Accuracy: 0.95 - FP: 1 - TP: 84\n",
      "Threshold: 0.51 - Accuracy: 0.95 - FP: 1 - TP: 84\n",
      "Threshold: 0.52 - Accuracy: 0.95 - FP: 1 - TP: 84\n",
      "Threshold: 0.53 - Accuracy: 0.95 - FP: 1 - TP: 84\n",
      "Threshold: 0.54 - Accuracy: 0.95 - FP: 1 - TP: 84\n",
      "Threshold: 0.55 - Accuracy: 0.95 - FP: 1 - TP: 84\n",
      "Threshold: 0.56 - Accuracy: 0.95 - FP: 1 - TP: 84\n",
      "Threshold: 0.57 - Accuracy: 0.95 - FP: 1 - TP: 84\n",
      "Threshold: 0.58 - Accuracy: 0.95 - FP: 1 - TP: 84\n",
      "Threshold: 0.59 - Accuracy: 0.95 - FP: 1 - TP: 84\n",
      "Threshold: 0.60 - Accuracy: 0.95 - FP: 1 - TP: 84\n",
      "Threshold: 0.61 - Accuracy: 0.94 - FP: 1 - TP: 83\n",
      "Threshold: 0.62 - Accuracy: 0.94 - FP: 1 - TP: 83\n",
      "Threshold: 0.63 - Accuracy: 0.94 - FP: 1 - TP: 83\n",
      "Threshold: 0.64 - Accuracy: 0.94 - FP: 1 - TP: 83\n",
      "Threshold: 0.65 - Accuracy: 0.94 - FP: 1 - TP: 83\n",
      "Threshold: 0.66 - Accuracy: 0.94 - FP: 1 - TP: 83\n",
      "Threshold: 0.67 - Accuracy: 0.94 - FP: 1 - TP: 83\n",
      "Threshold: 0.68 - Accuracy: 0.94 - FP: 1 - TP: 83\n",
      "Threshold: 0.69 - Accuracy: 0.94 - FP: 1 - TP: 83\n",
      "Threshold: 0.70 - Accuracy: 0.94 - FP: 1 - TP: 82\n",
      "Threshold: 0.71 - Accuracy: 0.94 - FP: 1 - TP: 82\n",
      "Threshold: 0.72 - Accuracy: 0.93 - FP: 1 - TP: 81\n",
      "Threshold: 0.73 - Accuracy: 0.93 - FP: 1 - TP: 81\n",
      "Threshold: 0.74 - Accuracy: 0.93 - FP: 1 - TP: 81\n",
      "Threshold: 0.75 - Accuracy: 0.93 - FP: 1 - TP: 81\n",
      "Threshold: 0.76 - Accuracy: 0.93 - FP: 1 - TP: 81\n",
      "Threshold: 0.77 - Accuracy: 0.92 - FP: 1 - TP: 80\n",
      "Threshold: 0.78 - Accuracy: 0.92 - FP: 1 - TP: 79\n",
      "Threshold: 0.79 - Accuracy: 0.92 - FP: 1 - TP: 79\n",
      "Threshold: 0.80 - Accuracy: 0.92 - FP: 1 - TP: 79\n",
      "Threshold: 0.81 - Accuracy: 0.92 - FP: 1 - TP: 79\n",
      "Threshold: 0.82 - Accuracy: 0.92 - FP: 1 - TP: 79\n",
      "Threshold: 0.83 - Accuracy: 0.90 - FP: 1 - TP: 77\n",
      "Threshold: 0.84 - Accuracy: 0.90 - FP: 1 - TP: 77\n",
      "Threshold: 0.85 - Accuracy: 0.90 - FP: 1 - TP: 77\n",
      "Threshold: 0.86 - Accuracy: 0.90 - FP: 1 - TP: 76\n",
      "Threshold: 0.87 - Accuracy: 0.89 - FP: 1 - TP: 75\n",
      "Threshold: 0.88 - Accuracy: 0.89 - FP: 0 - TP: 74\n",
      "Threshold: 0.89 - Accuracy: 0.87 - FP: 0 - TP: 72\n",
      "Threshold: 0.90 - Accuracy: 0.87 - FP: 0 - TP: 72\n",
      "Threshold: 0.91 - Accuracy: 0.86 - FP: 0 - TP: 70\n",
      "Threshold: 0.92 - Accuracy: 0.86 - FP: 0 - TP: 70\n",
      "Threshold: 0.93 - Accuracy: 0.86 - FP: 0 - TP: 70\n",
      "Threshold: 0.94 - Accuracy: 0.85 - FP: 0 - TP: 69\n",
      "Threshold: 0.95 - Accuracy: 0.85 - FP: 0 - TP: 68\n",
      "Threshold: 0.96 - Accuracy: 0.84 - FP: 0 - TP: 67\n",
      "Threshold: 0.97 - Accuracy: 0.83 - FP: 0 - TP: 66\n",
      "Threshold: 0.98 - Accuracy: 0.80 - FP: 0 - TP: 61\n",
      "Threshold: 0.99 - Accuracy: 0.72 - FP: 0 - TP: 50\n",
      "Threshold: 1.00 - Accuracy: 0.37 - FP: 0 - TP: 0\n",
      "[[9.23076923e-01 1.00000000e-02 1.10000000e+01 9.00000000e+01]\n",
      " [9.23076923e-01 2.00000000e-02 1.10000000e+01 9.00000000e+01]\n",
      " [9.23076923e-01 3.00000000e-02 1.10000000e+01 9.00000000e+01]\n",
      " [9.23076923e-01 4.00000000e-02 1.00000000e+01 8.90000000e+01]\n",
      " [9.30069930e-01 5.00000000e-02 9.00000000e+00 8.90000000e+01]\n",
      " [9.37062937e-01 6.00000000e-02 8.00000000e+00 8.90000000e+01]\n",
      " [9.37062937e-01 7.00000000e-02 8.00000000e+00 8.90000000e+01]\n",
      " [9.44055944e-01 8.00000000e-02 7.00000000e+00 8.90000000e+01]\n",
      " [9.51048951e-01 9.00000000e-02 6.00000000e+00 8.90000000e+01]\n",
      " [9.51048951e-01 1.00000000e-01 6.00000000e+00 8.90000000e+01]\n",
      " [9.51048951e-01 1.10000000e-01 6.00000000e+00 8.90000000e+01]\n",
      " [9.51048951e-01 1.20000000e-01 6.00000000e+00 8.90000000e+01]\n",
      " [9.51048951e-01 1.30000000e-01 6.00000000e+00 8.90000000e+01]\n",
      " [9.51048951e-01 1.40000000e-01 6.00000000e+00 8.90000000e+01]\n",
      " [9.44055944e-01 1.50000000e-01 6.00000000e+00 8.80000000e+01]\n",
      " [9.51048951e-01 1.60000000e-01 5.00000000e+00 8.80000000e+01]\n",
      " [9.51048951e-01 1.70000000e-01 5.00000000e+00 8.80000000e+01]\n",
      " [9.65034965e-01 1.80000000e-01 3.00000000e+00 8.80000000e+01]\n",
      " [9.65034965e-01 1.90000000e-01 3.00000000e+00 8.80000000e+01]\n",
      " [9.65034965e-01 2.00000000e-01 3.00000000e+00 8.80000000e+01]\n",
      " [9.65034965e-01 2.10000000e-01 3.00000000e+00 8.80000000e+01]\n",
      " [9.65034965e-01 2.20000000e-01 3.00000000e+00 8.80000000e+01]\n",
      " [9.58041958e-01 2.30000000e-01 3.00000000e+00 8.70000000e+01]\n",
      " [9.65034965e-01 2.40000000e-01 2.00000000e+00 8.70000000e+01]\n",
      " [9.65034965e-01 2.50000000e-01 2.00000000e+00 8.70000000e+01]\n",
      " [9.65034965e-01 2.60000000e-01 2.00000000e+00 8.70000000e+01]\n",
      " [9.65034965e-01 2.70000000e-01 2.00000000e+00 8.70000000e+01]\n",
      " [9.65034965e-01 2.80000000e-01 2.00000000e+00 8.70000000e+01]\n",
      " [9.65034965e-01 2.90000000e-01 2.00000000e+00 8.70000000e+01]\n",
      " [9.65034965e-01 3.00000000e-01 2.00000000e+00 8.70000000e+01]\n",
      " [9.72027972e-01 3.10000000e-01 1.00000000e+00 8.70000000e+01]\n",
      " [9.65034965e-01 3.20000000e-01 1.00000000e+00 8.60000000e+01]\n",
      " [9.65034965e-01 3.30000000e-01 1.00000000e+00 8.60000000e+01]\n",
      " [9.65034965e-01 3.40000000e-01 1.00000000e+00 8.60000000e+01]\n",
      " [9.58041958e-01 3.50000000e-01 1.00000000e+00 8.50000000e+01]\n",
      " [9.58041958e-01 3.60000000e-01 1.00000000e+00 8.50000000e+01]\n",
      " [9.58041958e-01 3.70000000e-01 1.00000000e+00 8.50000000e+01]\n",
      " [9.58041958e-01 3.80000000e-01 1.00000000e+00 8.50000000e+01]\n",
      " [9.58041958e-01 3.90000000e-01 1.00000000e+00 8.50000000e+01]\n",
      " [9.51048951e-01 4.00000000e-01 1.00000000e+00 8.40000000e+01]\n",
      " [9.51048951e-01 4.10000000e-01 1.00000000e+00 8.40000000e+01]\n",
      " [9.51048951e-01 4.20000000e-01 1.00000000e+00 8.40000000e+01]\n",
      " [9.51048951e-01 4.30000000e-01 1.00000000e+00 8.40000000e+01]\n",
      " [9.51048951e-01 4.40000000e-01 1.00000000e+00 8.40000000e+01]\n",
      " [9.51048951e-01 4.50000000e-01 1.00000000e+00 8.40000000e+01]\n",
      " [9.51048951e-01 4.60000000e-01 1.00000000e+00 8.40000000e+01]\n",
      " [9.51048951e-01 4.70000000e-01 1.00000000e+00 8.40000000e+01]\n",
      " [9.51048951e-01 4.80000000e-01 1.00000000e+00 8.40000000e+01]\n",
      " [9.51048951e-01 4.90000000e-01 1.00000000e+00 8.40000000e+01]\n",
      " [9.51048951e-01 5.00000000e-01 1.00000000e+00 8.40000000e+01]\n",
      " [9.51048951e-01 5.10000000e-01 1.00000000e+00 8.40000000e+01]\n",
      " [9.51048951e-01 5.20000000e-01 1.00000000e+00 8.40000000e+01]\n",
      " [9.51048951e-01 5.30000000e-01 1.00000000e+00 8.40000000e+01]\n",
      " [9.51048951e-01 5.40000000e-01 1.00000000e+00 8.40000000e+01]\n",
      " [9.51048951e-01 5.50000000e-01 1.00000000e+00 8.40000000e+01]\n",
      " [9.51048951e-01 5.60000000e-01 1.00000000e+00 8.40000000e+01]\n",
      " [9.51048951e-01 5.70000000e-01 1.00000000e+00 8.40000000e+01]\n",
      " [9.51048951e-01 5.80000000e-01 1.00000000e+00 8.40000000e+01]\n",
      " [9.51048951e-01 5.90000000e-01 1.00000000e+00 8.40000000e+01]\n",
      " [9.51048951e-01 6.00000000e-01 1.00000000e+00 8.40000000e+01]\n",
      " [9.44055944e-01 6.10000000e-01 1.00000000e+00 8.30000000e+01]\n",
      " [9.44055944e-01 6.20000000e-01 1.00000000e+00 8.30000000e+01]\n",
      " [9.44055944e-01 6.30000000e-01 1.00000000e+00 8.30000000e+01]\n",
      " [9.44055944e-01 6.40000000e-01 1.00000000e+00 8.30000000e+01]\n",
      " [9.44055944e-01 6.50000000e-01 1.00000000e+00 8.30000000e+01]\n",
      " [9.44055944e-01 6.60000000e-01 1.00000000e+00 8.30000000e+01]\n",
      " [9.44055944e-01 6.70000000e-01 1.00000000e+00 8.30000000e+01]\n",
      " [9.44055944e-01 6.80000000e-01 1.00000000e+00 8.30000000e+01]\n",
      " [9.44055944e-01 6.90000000e-01 1.00000000e+00 8.30000000e+01]\n",
      " [9.37062937e-01 7.00000000e-01 1.00000000e+00 8.20000000e+01]\n",
      " [9.37062937e-01 7.10000000e-01 1.00000000e+00 8.20000000e+01]\n",
      " [9.30069930e-01 7.20000000e-01 1.00000000e+00 8.10000000e+01]\n",
      " [9.30069930e-01 7.30000000e-01 1.00000000e+00 8.10000000e+01]\n",
      " [9.30069930e-01 7.40000000e-01 1.00000000e+00 8.10000000e+01]\n",
      " [9.30069930e-01 7.50000000e-01 1.00000000e+00 8.10000000e+01]\n",
      " [9.30069930e-01 7.60000000e-01 1.00000000e+00 8.10000000e+01]\n",
      " [9.23076923e-01 7.70000000e-01 1.00000000e+00 8.00000000e+01]\n",
      " [9.16083916e-01 7.80000000e-01 1.00000000e+00 7.90000000e+01]\n",
      " [9.16083916e-01 7.90000000e-01 1.00000000e+00 7.90000000e+01]\n",
      " [9.16083916e-01 8.00000000e-01 1.00000000e+00 7.90000000e+01]\n",
      " [9.16083916e-01 8.10000000e-01 1.00000000e+00 7.90000000e+01]\n",
      " [9.16083916e-01 8.20000000e-01 1.00000000e+00 7.90000000e+01]\n",
      " [9.02097902e-01 8.30000000e-01 1.00000000e+00 7.70000000e+01]\n",
      " [9.02097902e-01 8.40000000e-01 1.00000000e+00 7.70000000e+01]\n",
      " [9.02097902e-01 8.50000000e-01 1.00000000e+00 7.70000000e+01]\n",
      " [8.95104895e-01 8.60000000e-01 1.00000000e+00 7.60000000e+01]\n",
      " [8.88111888e-01 8.70000000e-01 1.00000000e+00 7.50000000e+01]\n",
      " [8.88111888e-01 8.80000000e-01 0.00000000e+00 7.40000000e+01]\n",
      " [8.74125874e-01 8.90000000e-01 0.00000000e+00 7.20000000e+01]\n",
      " [8.74125874e-01 9.00000000e-01 0.00000000e+00 7.20000000e+01]\n",
      " [8.60139860e-01 9.10000000e-01 0.00000000e+00 7.00000000e+01]\n",
      " [8.60139860e-01 9.20000000e-01 0.00000000e+00 7.00000000e+01]\n",
      " [8.60139860e-01 9.30000000e-01 0.00000000e+00 7.00000000e+01]\n",
      " [8.53146853e-01 9.40000000e-01 0.00000000e+00 6.90000000e+01]\n",
      " [8.46153846e-01 9.50000000e-01 0.00000000e+00 6.80000000e+01]\n",
      " [8.39160839e-01 9.60000000e-01 0.00000000e+00 6.70000000e+01]\n",
      " [8.32167832e-01 9.70000000e-01 0.00000000e+00 6.60000000e+01]\n",
      " [7.97202797e-01 9.80000000e-01 0.00000000e+00 6.10000000e+01]\n",
      " [7.20279720e-01 9.90000000e-01 0.00000000e+00 5.00000000e+01]\n",
      " [3.70629371e-01 1.00000000e+00 0.00000000e+00 0.00000000e+00]]\n"
     ]
    }
   ],
   "source": [
    "performances = []\n",
    "fps, tps = [], []\n",
    "\n",
    "for t in thresholds:\n",
    "    fp, tp = eval_fp_tp(y_test, scores, t)\n",
    "    fps.append(fp)\n",
    "    tps.append(tp)\n",
    "    acc = eval_accuracy(y_test, scores, t)\n",
    "    print(f\"Threshold: {t:.2f} - Accuracy: {acc:.2f} - FP: {fp} - TP: {tp}\")\n",
    "    performances.append((acc, t, fp, tp))\n",
    "\n",
    "performances = np.array(performances)\n",
    "print(performances)"
   ]
  },
  {
   "cell_type": "markdown",
   "metadata": {},
   "source": [
    "# Plotting\n",
    "\n",
    "Let us then start plotting the coverage plot for the obtained classifications."
   ]
  },
  {
   "cell_type": "code",
   "execution_count": 13,
   "metadata": {},
   "outputs": [
    {
     "data": {
      "text/plain": [
       "[<matplotlib.lines.Line2D at 0x1f40408abf0>]"
      ]
     },
     "execution_count": 13,
     "metadata": {},
     "output_type": "execute_result"
    },
    {
     "data": {
      "image/png": "[encoded data removed]",
      "text/plain": [
       "<Figure size 640x480 with 1 Axes>"
      ]
     },
     "metadata": {},
     "output_type": "display_data"
    }
   ],
   "source": [
    "plt.plot(fps, tps)\n"
   ]
  },
  {
   "cell_type": "markdown",
   "metadata": {},
   "source": [
    "# Checking performances for threshold 0.5\n",
    "\n",
    "The predict_proba method we used to get the score returns the probability that examples belong to the positive class. Usually the positive class is then predicted as score > 0.5 (since in this case it is the one with the largest likelihood).\n",
    "\n",
    "Let's then see where this classifier (i.e., the one obtained setting the threshold to 0.5) lays in the coverage plot and if there are better options.\n",
    "\n",
    "**note**: since we saved interesting stats in the `performances` array, we can retrieve the fp, tp position of the classifier we get by setting the thresholds to 0.5, by finding the position of the row we are interested using the expression: `performances[:,1] == 0.5` and then using the resulting boolean vector to retrieve the correct row of the matrix: `performances[performances[:,1] == 0.5]`.\n",
    "```"
   ]
  },
  {
   "cell_type": "code",
   "execution_count": 14,
   "metadata": {},
   "outputs": [
    {
     "data": {
      "text/plain": [
       "[<matplotlib.lines.Line2D at 0x1f4042bfc10>]"
      ]
     },
     "execution_count": 14,
     "metadata": {},
     "output_type": "execute_result"
    },
    {
     "data": {
      "image/png": "[encoded data removed]",
      "text/plain": [
       "<Figure size 640x480 with 1 Axes>"
      ]
     },
     "metadata": {},
     "output_type": "display_data"
    }
   ],
   "source": [
    "plt.plot(fps, tps)\n",
    "accuracy, threshold, fp, tp = performances[performances[:,1] == 0.5][0]\n",
    "plt.scatter(fp,tp,color='red')\n",
    "plt.plot([fp-10,fp+10],[tp-10,tp+10], color=\"red\")"
   ]
  },
  {
   "cell_type": "markdown",
   "metadata": {},
   "source": [
    "As it is shown by the red dot and the red line, threshold 0.5 is a good one, but apparently two other points can reach a better classification.\n",
    "\n",
    "Let us see where these point lay in the plot and what is their accuracy."
   ]
  },
  {
   "cell_type": "code",
   "execution_count": 15,
   "metadata": {},
   "outputs": [
    {
     "data": {
      "text/plain": [
       "array([[ 0.96503497,  0.18      ,  3.        , 88.        ],\n",
       "       [ 0.96503497,  0.19      ,  3.        , 88.        ],\n",
       "       [ 0.96503497,  0.2       ,  3.        , 88.        ],\n",
       "       [ 0.96503497,  0.21      ,  3.        , 88.        ],\n",
       "       [ 0.96503497,  0.22      ,  3.        , 88.        ],\n",
       "       [ 0.95804196,  0.23      ,  3.        , 87.        ],\n",
       "       [ 0.96503497,  0.24      ,  2.        , 87.        ],\n",
       "       [ 0.96503497,  0.25      ,  2.        , 87.        ],\n",
       "       [ 0.96503497,  0.26      ,  2.        , 87.        ],\n",
       "       [ 0.96503497,  0.27      ,  2.        , 87.        ],\n",
       "       [ 0.96503497,  0.28      ,  2.        , 87.        ],\n",
       "       [ 0.96503497,  0.29      ,  2.        , 87.        ],\n",
       "       [ 0.96503497,  0.3       ,  2.        , 87.        ],\n",
       "       [ 0.97202797,  0.31      ,  1.        , 87.        ],\n",
       "       [ 0.96503497,  0.32      ,  1.        , 86.        ],\n",
       "       [ 0.96503497,  0.33      ,  1.        , 86.        ],\n",
       "       [ 0.96503497,  0.34      ,  1.        , 86.        ],\n",
       "       [ 0.95804196,  0.35      ,  1.        , 85.        ],\n",
       "       [ 0.95804196,  0.36      ,  1.        , 85.        ],\n",
       "       [ 0.95804196,  0.37      ,  1.        , 85.        ],\n",
       "       [ 0.95804196,  0.38      ,  1.        , 85.        ],\n",
       "       [ 0.95804196,  0.39      ,  1.        , 85.        ]])"
      ]
     },
     "execution_count": 15,
     "metadata": {},
     "output_type": "execute_result"
    }
   ],
   "source": [
    "# Note: the subscription returns a matrix with a single row, but still two dimensions, \n",
    "# we need to get the element in the first position of that matrix...\n",
    "\n",
    "perf05 = performances[performances[:, 1] == 0.5][0,0] \n",
    "performances[performances[:,0] > perf05]"
   ]
  },
  {
   "cell_type": "markdown",
   "metadata": {},
   "source": [
    "The two points that we are looking for are then in position (5,121) and (1,117)"
   ]
  },
  {
   "cell_type": "code",
   "execution_count": 16,
   "metadata": {},
   "outputs": [
    {
     "data": {
      "text/plain": [
       "[<matplotlib.lines.Line2D at 0x1f404126590>]"
      ]
     },
     "execution_count": 16,
     "metadata": {},
     "output_type": "execute_result"
    },
    {
     "data": {
      "image/png": "[encoded data removed]",
      "text/plain": [
       "<Figure size 640x480 with 1 Axes>"
      ]
     },
     "metadata": {},
     "output_type": "display_data"
    }
   ],
   "source": [
    "plt.plot(fps, tps)\n",
    "fp, tp = eval_fp_tp(y_test, scores > 0.5, 0.5)\n",
    "plt.scatter(fp,tp, color=\"red\")\n",
    "plt.scatter(5,121, color=\"orange\")\n",
    "plt.scatter(1,117, color=\"orange\")\n",
    "plt.plot([fp-10,fp+10],[tp-10,tp+10], color=\"red\")"
   ]
  },
  {
   "cell_type": "markdown",
   "metadata": {},
   "source": [
    "These two points (that we found by looking only to the accuracies) are indeed the two points that the plot show having a better accuracy. "
   ]
  }
 ],
 "metadata": {
  "kernelspec": {
   "display_name": "Python 3.10.4 ('env AAUT': venv)",
   "language": "python",
   "name": "python3"
  },
  "language_info": {
   "codemirror_mode": {
    "name": "ipython",
    "version": 3
   },
   "file_extension": ".py",
   "mimetype": "text/x-python",
   "name": "python",
   "nbconvert_exporter": "python",
   "pygments_lexer": "ipython3",
   "version": "3.10.4"
  },
  "orig_nbformat": 2,
  "vscode": {
   "interpreter": {
    "hash": "9b72f3770e4a27baa78947186d78c6287522709254b1ca531b1a9645f5fa54d0"
   }
  }
 },
 "nbformat": 4,
 "nbformat_minor": 2
}
